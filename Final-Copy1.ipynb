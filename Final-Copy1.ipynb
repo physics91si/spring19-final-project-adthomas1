{
 "cells": [
  {
   "cell_type": "code",
   "execution_count": 1,
   "metadata": {},
   "outputs": [],
   "source": [
    "import numpy as np\n",
    "import scipy as sp\n",
    "import copy\n",
    "import math\n",
    "from pprint import pprint\n",
    "home_games_season = 19\n",
    "no_teams = 20\n",
    "attack = 0\n",
    "defense = 1\n",
    "home = 0\n",
    "away = 1\n",
    "draw = 2"
   ]
  },
  {
   "cell_type": "markdown",
   "metadata": {},
   "source": [
    "# READ IN DATA"
   ]
  },
  {
   "cell_type": "code",
   "execution_count": 2,
   "metadata": {},
   "outputs": [],
   "source": [
    "# Read all data from into a series of dictionaries. Main dictionary is alldata.\n",
    "# alldata contains a dictionary for each season, with the key as they year.\n",
    "# Each season has two seperate dictionaries - home and away, in each of which\n",
    "# is the total number of goals scored by that team, that season at home or away.\n",
    "#\n",
    "f = open(\"EPL_Set.csv\", \"r\")\n",
    "# Firstline of file is headings\n",
    "line = f.readline().split(',')\n",
    "# Main dictionary\n",
    "alldata = {}\n",
    "# Get first line\n",
    "line = f.readline().split(',')\n",
    "# When the file is done reading, it returns a new line character, so line still has size 1.\n",
    "while (len(line) != 1):\n",
    "    # Remove the newline character and extra whitespace.\n",
    "    s = line[10].rstrip()\n",
    "    # If the season has not been seen before, initialise all dictionaries.\n",
    "    if s not in alldata:\n",
    "        attackh = {}\n",
    "        defendh = {}\n",
    "        attacka = {}\n",
    "        defenda = {}\n",
    "        seasonhome = [attackh,defendh]\n",
    "        seasonaway = [attacka,defenda]\n",
    "        season = [seasonhome,seasonaway]\n",
    "        alldata[s] = season   \n",
    "    # line[2] is the home team\n",
    "    if line[2] in seasonhome[0]:\n",
    "        # Add the number of goals scored (line[4]) by the home team to their home total goals.\n",
    "        seasonhome[0][line[2]] += (int)(line [4])\n",
    "        seasonhome[1][line[2]] += (int)(line [5])\n",
    "    else:\n",
    "        seasonhome[0][line[2]] = (int)(line [4])\n",
    "        seasonhome[1][line[2]] = (int)(line [5])\n",
    "        #line[3] is the away team.\n",
    "    if line[3] in seasonaway[0]:\n",
    "        # Add the number of goals scored (line[5]) by the away team to their away total goals.\n",
    "        seasonaway[0][line[3]] += (int)(line [5])\n",
    "        seasonaway[1][line[3]] += (int)(line [4])\n",
    "    else:\n",
    "        seasonaway[0][line[3]] = (int)(line [5])\n",
    "        seasonaway[1][line[3]] = (int)(line [4])\n",
    "    # Get the next line\n",
    "    line = f.readline().split(',')"
   ]
  },
  {
   "cell_type": "code",
   "execution_count": 3,
   "metadata": {},
   "outputs": [],
   "source": [
    "# Now, make a second dictionary, containing the average number of goals scored \n",
    "# and conceded by each team, either home or away over the course of each season.\n",
    "# Also a third dictionary containing the average number of goals the home team \n",
    "# and the away team scored that season.\n",
    "averagedata = copy.deepcopy(alldata)\n",
    "# Dictionary containing the average number of goals scored by the home and away\n",
    "# teams in a season.\n",
    "averageseason = {}\n",
    "# Loop over each season in alldata\n",
    "for season in averagedata:\n",
    "    totalgoalshome = 0\n",
    "    totalgoalsaway = 0\n",
    "    averagetotal = [0,0]\n",
    "    averageseason [season] = averagetotal\n",
    "    # Get each list for each season\n",
    "    seasonlist = averagedata[season]\n",
    "    # Home goals list\n",
    "    homelist = seasonlist[0]\n",
    "    # Away goals dictionary\n",
    "    awaylist = seasonlist[1]\n",
    "    for hometeam in homelist[0]:\n",
    "        # Get the total number of goals the team scored in a season by a team at home.\n",
    "        totalg = homelist[0][hometeam]\n",
    "        totalgoalshome += totalg\n",
    "        # Average by total number of home games.\n",
    "        averageg = totalg/(home_games_season)\n",
    "        # Place back into average dictionary.\n",
    "        homelist[0][hometeam] = averageg\n",
    "    for awayteam in awaylist[0]:\n",
    "        # Get the total number of goals the team scored in a season by a team away.\n",
    "        totalg = awaylist[0][awayteam]\n",
    "        totalgoalsaway += totalg\n",
    "        # Average by total number of home games.\n",
    "        averageg = totalg/(home_games_season)\n",
    "        # Place back into average dictionary.\n",
    "        awaylist[0][awayteam] = averageg\n",
    "    for hometeam in homelist[1]:\n",
    "        # Get the total number of goals the team conceded in a season at home.\n",
    "        totalg = homelist[1][hometeam]\n",
    "        # Average by total number of home games.\n",
    "        averageg = totalg/(home_games_season)\n",
    "        # Place back into average dictionary.\n",
    "        homelist[1][hometeam] = averageg\n",
    "    for awayteam in awaylist[1]:\n",
    "        # Get the total number of goals the team conceded in a season away.\n",
    "        totalg = awaylist[1][awayteam]\n",
    "        # Average by total number of home games.\n",
    "        averageg = totalg/(home_games_season)\n",
    "        # Place back into average dictionary.\n",
    "        awaylist[1][awayteam] = averageg\n",
    "    averageseason[season][home] = totalgoalshome/(no_teams * home_games_season)\n",
    "    averageseason[season][away] = totalgoalsaway/(no_teams * home_games_season)\n",
    "    "
   ]
  },
  {
   "cell_type": "markdown",
   "metadata": {},
   "source": [
    "# PROBABILITY OF OUTCOME OF SINGLE GAME"
   ]
  },
  {
   "cell_type": "code",
   "execution_count": 4,
   "metadata": {},
   "outputs": [
    {
     "name": "stdout",
     "output_type": "stream",
     "text": [
      "Please enter a season (e.g. 2004-05): 2000-01\n"
     ]
    }
   ],
   "source": [
    "while (True):\n",
    "    requestedseason = input(\"Please enter a season (e.g. 2004-05): \")\n",
    "    if (requestedseason in averagedata):\n",
    "        break\n",
    "    else:\n",
    "        print(\"Invalid input, please try again!\")"
   ]
  },
  {
   "cell_type": "code",
   "execution_count": 5,
   "metadata": {},
   "outputs": [
    {
     "name": "stdout",
     "output_type": "stream",
     "text": [
      "Arsenal\n",
      "Aston Villa\n",
      "Bradford\n",
      "Charlton\n",
      "Chelsea\n",
      "Coventry\n",
      "Derby\n",
      "Everton\n",
      "Ipswich\n",
      "Leeds\n",
      "Leicester\n",
      "Liverpool\n",
      "Man City\n",
      "Man United\n",
      "Middlesbrough\n",
      "Newcastle\n",
      "Southampton\n",
      "Sunderland\n",
      "Tottenham\n",
      "West Ham\n"
     ]
    }
   ],
   "source": [
    "#Print all teams in that season\n",
    "#for team in averagedata[requestedseason][0][0]:\n",
    "for team in sorted(averagedata[requestedseason][0][0]):\n",
    "    print(team, end = \"\\n\")"
   ]
  },
  {
   "cell_type": "code",
   "execution_count": 6,
   "metadata": {},
   "outputs": [
    {
     "name": "stdout",
     "output_type": "stream",
     "text": [
      "Please select a home team from the above: Chelsea\n",
      "Please select an away team from the above: Middlesbrough\n"
     ]
    }
   ],
   "source": [
    "while (True):\n",
    "    teamone = input(\"Please select a home team from the above: \")\n",
    "    teamtwo = input(\"Please select an away team from the above: \")\n",
    "    if (teamone in averagedata[requestedseason][0][0] and teamtwo in averagedata[requestedseason][0][0]):\n",
    "        break\n",
    "    else:\n",
    "        print(\"Invalid input, try again!\")"
   ]
  },
  {
   "cell_type": "code",
   "execution_count": 7,
   "metadata": {},
   "outputs": [],
   "source": [
    "#This is the defintion of strength of a team, either attacking or defending, relative to the league average.\n",
    "homeattackstrength = (averagedata[requestedseason][home][attack][teamone])/averageseason[requestedseason][home]\n",
    "homedefensestrength = averagedata[requestedseason][home][defense][teamone]/averageseason[requestedseason][away]\n",
    "awayattackstrength = averagedata[requestedseason][away][attack][teamtwo]/averageseason[requestedseason][away]\n",
    "awaydefensestrength = averagedata[requestedseason][away][defense][teamtwo]/averageseason[requestedseason][home]"
   ]
  },
  {
   "cell_type": "code",
   "execution_count": 8,
   "metadata": {},
   "outputs": [
    {
     "name": "stdout",
     "output_type": "stream",
     "text": [
      "1.6569532861113603\n",
      "1.3515269655620532\n"
     ]
    }
   ],
   "source": [
    "#Calculate the projected goals scored by both teams.\n",
    "prjhomeg = homeattackstrength * awaydefensestrength * averageseason[requestedseason][home]\n",
    "prjawayg = awayattackstrength * homedefensestrength * averageseason[requestedseason][away]\n",
    "print(prjhomeg)\n",
    "print(prjawayg)"
   ]
  },
  {
   "cell_type": "code",
   "execution_count": 9,
   "metadata": {},
   "outputs": [],
   "source": [
    "# This function calculates the poisson distribution for 0 - 5 goals scored by a team manually and returns the\n",
    "# probabilities as a list.\n",
    "def calculatePoisson(expectedgoals):\n",
    "    percentages = [0,0,0,0,0,0]\n",
    "    for i in range (0,6):\n",
    "        perc = math.exp(-expectedgoals)\n",
    "        perc = perc * ((expectedgoals ** i)/math.factorial(i))\n",
    "        percentages [i] = perc\n",
    "    return percentages    "
   ]
  },
  {
   "cell_type": "code",
   "execution_count": 10,
   "metadata": {},
   "outputs": [],
   "source": [
    "poisson1 = calculatePoisson(prjhomeg)\n",
    "poisson2 = calculatePoisson(prjawayg)"
   ]
  },
  {
   "cell_type": "code",
   "execution_count": 11,
   "metadata": {},
   "outputs": [],
   "source": [
    "# Creates a dictionary containing the probabilites for each possible outcome (up to 5 goals each). The key's are the\n",
    "# goals scored by the home team, the index of the list in the value is the number of goals scored by the away team. \n",
    "# The value stored in the list is the probaility of a key to index outcome.\n",
    "results = {}\n",
    "for i in range (0,len(poisson1)):\n",
    "    othergoals = [0,0,0,0,0,0]\n",
    "    for j in range (0,len(poisson2)):\n",
    "        othergoals[j] = poisson1[i] * poisson2[j]\n",
    "    results[i] = othergoals    "
   ]
  },
  {
   "cell_type": "code",
   "execution_count": 12,
   "metadata": {},
   "outputs": [
    {
     "name": "stdout",
     "output_type": "stream",
     "text": [
      "0.43996079313076836\n",
      "0.2395615937601968\n",
      "0.32047761310903483\n"
     ]
    }
   ],
   "source": [
    "# Calculate the total probability of each outcome (win, lose, draw) by summing the relevant probabilities\n",
    "oddshometeamwin = 0\n",
    "oddsdraw = 0\n",
    "for i in results:\n",
    "    awaygoals = results[i]\n",
    "    #If they score the same number\n",
    "    oddsdraw += awaygoals[i]\n",
    "    for j in range (0,len(awaygoals)):\n",
    "        #if hometeam (i) scores more than away team (j)\n",
    "        if (i > j):\n",
    "            oddshometeamwin += awaygoals [j]\n",
    "# Probabilites must sum to 1\n",
    "oddsawayteamwin = 1 - oddsdraw - oddshometeamwin\n",
    "print(oddshometeamwin)\n",
    "print(oddsdraw)\n",
    "print(oddsawayteamwin)"
   ]
  },
  {
   "cell_type": "code",
   "execution_count": 13,
   "metadata": {},
   "outputs": [
    {
     "name": "stdout",
     "output_type": "stream",
     "text": [
      "Please enter home team goals, between 0 and 5: 3\n",
      "Please enter away team goals, between 0 and 5: 1\n"
     ]
    }
   ],
   "source": [
    "# If the user wants to fin the probability of a certain outcome\n",
    "valid = [0,1,2,3,4,5]\n",
    "while (True):\n",
    "    #Get their input\n",
    "    homegoals = input(\"Please enter home team goals, between 0 and 5: \")\n",
    "    awaygoals = input(\"Please enter away team goals, between 0 and 5: \")\n",
    "    #Ensure input is an integer between 0 and 5\n",
    "    try:\n",
    "        homegoals = int(homegoals)\n",
    "        awaygoals = int(awaygoals)\n",
    "        if (homegoals <= 5 and homegoals >= 0 and awaygoals <= 5 and awaygoals >= 0):\n",
    "            break\n",
    "        else:\n",
    "            print(\"Invalid input, please try again\")\n",
    "    except ValueError:\n",
    "        print(\"Invalid input, please try again\")"
   ]
  },
  {
   "cell_type": "code",
   "execution_count": 14,
   "metadata": {},
   "outputs": [
    {
     "name": "stdout",
     "output_type": "stream",
     "text": [
      "0.05058687905937654\n"
     ]
    }
   ],
   "source": [
    "# Find the probability in the results dictionary.\n",
    "probresult = results[homegoals][awaygoals]\n",
    "print(probresult)"
   ]
  },
  {
   "cell_type": "markdown",
   "metadata": {},
   "source": [
    "# PREDICTED SEASON"
   ]
  },
  {
   "cell_type": "code",
   "execution_count": 15,
   "metadata": {},
   "outputs": [],
   "source": [
    "# Function to find the 'strenght' of a teams attack or defense relative to the league average\n",
    "def strength (place, attdef, team):\n",
    "    return(averagedata[requestedseason][place][attdef][team])/averageseason[requestedseason][place]"
   ]
  },
  {
   "cell_type": "code",
   "execution_count": 16,
   "metadata": {},
   "outputs": [],
   "source": [
    "# Calculates the expeccted number of goals given a teams attacking strength and a different teams defending strength \n",
    "# and the location of the fixture.\n",
    "def expectedgoals (hstrength, astrength, place):\n",
    "    return hstrength * astrength * averageseason[requestedseason][place]"
   ]
  },
  {
   "cell_type": "code",
   "execution_count": 17,
   "metadata": {},
   "outputs": [],
   "source": [
    "# Creates a dictionary of all possible results (0-5 goals) and their probabilities.\n",
    "# Keys are home goals, index of other goals is away goals and the value stored is the\n",
    "# probability.\n",
    "def findresults (poissonhome,poissonaway):\n",
    "    results = {}\n",
    "    for i in range (0,len(poissonhome)):\n",
    "        othergoals = [0,0,0,0,0,0]\n",
    "        for j in range (0,len(poissonaway)):\n",
    "            othergoals[j] = poissonhome[i] * poissonaway[j]\n",
    "        results[i] = othergoals\n",
    "    return results"
   ]
  },
  {
   "cell_type": "code",
   "execution_count": 18,
   "metadata": {},
   "outputs": [],
   "source": [
    "# Determines the most likely outcome of the game by summing all the probabilites of each type of result\n",
    "def findresult (results):\n",
    "    hometeamwin = 0\n",
    "    draw = 0\n",
    "    for i in results:\n",
    "        awaygoals = results[i]\n",
    "        draw += awaygoals[i]\n",
    "        for j in range (0,len(awaygoals)):\n",
    "            #If home scored more than away\n",
    "            if (i > j):\n",
    "                hometeamwin += awaygoals [j]\n",
    "    awayteamwin = 1 - draw - hometeamwin\n",
    "    if (draw > hometeamwin and draw > awayteamwin):\n",
    "        return draw\n",
    "    if (awayteamwin > draw and awayteamwin > hometeamwin):\n",
    "        return away\n",
    "    return home"
   ]
  },
  {
   "cell_type": "code",
   "execution_count": 19,
   "metadata": {},
   "outputs": [],
   "source": [
    "# Simulates an entire season, each team playing each other team both home and away.\n",
    "def playseason (table):\n",
    "    # Home teams\n",
    "    for hteam in averagedata[requestedseason][0][0]:\n",
    "        # Away teams\n",
    "        for ateam in averagedata[requestedseason][0][0]:\n",
    "            # Ensure a team doesn't play itself.\n",
    "            if (hteam is not ateam):\n",
    "                # Home attacking strength\n",
    "                hstra = strength (home, attack, hteam)\n",
    "                # Home defending strength\n",
    "                hstrd = strength (home, defense, hteam)\n",
    "                # Away attacking strength\n",
    "                astra = strength (away, attack, ateam)\n",
    "                # Away defending strength\n",
    "                astrd = strength (away, defense, ateam)\n",
    "                # Home expected goals\n",
    "                hgoals = expectedgoals(hstra, astrd, home)\n",
    "                # Away expected goals\n",
    "                agoals = expectedgoals(astra, hstrd, away)\n",
    "                hpoisson = calculatePoisson(hgoals)\n",
    "                apoisson = calculatePoisson(agoals)\n",
    "                # Dictionary of all results and their possibilities.\n",
    "                scores = findresults (hpoisson, apoisson)\n",
    "                # Score indicates the likely result\n",
    "                score = findresult (scores)\n",
    "                if (score == draw):\n",
    "                    # Give both teams 1 point\n",
    "                    table [hteam] += 1\n",
    "                    table [ateam] += 1\n",
    "                if (score == away):\n",
    "                    # Give away team 3 points\n",
    "                    table [ateam] += 3\n",
    "                if (score == home):\n",
    "                    # Give home team 3 points\n",
    "                    table [hteam] += 3  \n",
    "                "
   ]
  },
  {
   "cell_type": "code",
   "execution_count": 20,
   "metadata": {},
   "outputs": [],
   "source": [
    "# Initialises the table by adding all teams and setting their points tally to 0\n",
    "def initialisetable (sometable):\n",
    "     for someteam in averagedata[requestedseason][0][0]:\n",
    "            sometable [someteam] = 0"
   ]
  },
  {
   "cell_type": "code",
   "execution_count": 21,
   "metadata": {},
   "outputs": [],
   "source": [
    "# Prints the table in descending value order, and makes it appear like a premier league table.\n",
    "def printinorder(sometable):\n",
    "    # Sorts the values in reverse order\n",
    "    for key, value in sorted(sometable.items(), key = lambda item: item[1], reverse = True):\n",
    "        # Tab across for style\n",
    "        gap = \"\\t\"\n",
    "        # Ensure tabs are same\n",
    "        if (len(key) < 7):\n",
    "            gap +='\\t'\n",
    "        print(key, gap, value)"
   ]
  },
  {
   "cell_type": "code",
   "execution_count": 22,
   "metadata": {},
   "outputs": [
    {
     "name": "stdout",
     "output_type": "stream",
     "text": [
      "Man United \t 75\n",
      "Leeds \t\t 69\n",
      "Liverpool \t 69\n",
      "Chelsea \t 63\n",
      "Ipswich \t 63\n",
      "Charlton \t 57\n",
      "Leicester \t 57\n",
      "Sunderland \t 57\n",
      "Tottenham \t 57\n",
      "Arsenal \t 57\n",
      "Middlesbrough \t 57\n",
      "Newcastle \t 57\n",
      "Southampton \t 57\n",
      "West Ham \t 57\n",
      "Aston Villa \t 57\n",
      "Derby \t\t 54\n",
      "Everton \t 54\n",
      "Bradford \t 45\n",
      "Man City \t 39\n",
      "Coventry \t 36\n"
     ]
    }
   ],
   "source": [
    "table = {}\n",
    "initialisetable(table)\n",
    "playseason(table)\n",
    "printinorder(table)"
   ]
  },
  {
   "cell_type": "markdown",
   "metadata": {},
   "source": [
    "# SEASON USING RANDOM GENERATOR"
   ]
  },
  {
   "cell_type": "code",
   "execution_count": 23,
   "metadata": {},
   "outputs": [],
   "source": [
    "# creates a list of the different probabilites of each type of outcome\n",
    "def findDistribution(results):\n",
    "    hometeamwin = 0\n",
    "    draw = 0\n",
    "    for i in results:\n",
    "        awaygoals = results[i]\n",
    "        draw += awaygoals[i]\n",
    "        for j in range (0,len(awaygoals)):\n",
    "            if (i > j):\n",
    "                hometeamwin += awaygoals[j]\n",
    "    awayteamwin = 1 - draw - hometeamwin\n",
    "    return [hometeamwin, awayteamwin, draw]"
   ]
  },
  {
   "cell_type": "code",
   "execution_count": 24,
   "metadata": {},
   "outputs": [],
   "source": [
    "# Randomly finds a result, by using the weighted probabilites of each type of outcome.\n",
    "def findresult1 (distr):\n",
    "    return np.random.choice([home,away,2],1,p = distr)"
   ]
  },
  {
   "cell_type": "code",
   "execution_count": 25,
   "metadata": {},
   "outputs": [],
   "source": [
    "# Simulates an entire season, each team playing each other team both home and away.\n",
    "def randomseason (sometable):\n",
    "    for hteam in averagedata[requestedseason][0][0]:\n",
    "        for ateam in averagedata[requestedseason][0][0]:\n",
    "            if (hteam is not ateam):\n",
    "                hstra = strength (home, attack, hteam)\n",
    "                hstrd = strength (home, defense, hteam)\n",
    "                astra = strength (away, attack, ateam)\n",
    "                astrd = strength (away, defense, ateam)\n",
    "                hgoals = expectedgoals(hstra, astrd, home)\n",
    "                agoals = expectedgoals(astra, hstrd, away)\n",
    "                hpoisson = calculatePoisson(hgoals)\n",
    "                apoisson = calculatePoisson(agoals)\n",
    "                scores = findresults (hpoisson, apoisson)\n",
    "                # Distr = list with probabilites of [Homewin, Awaywin, Draw]\n",
    "                distr = findDistribution(scores)\n",
    "                # Score indicates the randomly selected outcome\n",
    "                score = findresult1(distr)\n",
    "                # Allocate points \n",
    "                if (score == draw):\n",
    "                    sometable [hteam] += 1\n",
    "                    sometable [ateam] += 1\n",
    "                if (score == away):\n",
    "                    sometable [ateam] += 3\n",
    "                if (score == home):\n",
    "                    sometable [hteam] += 3  "
   ]
  },
  {
   "cell_type": "code",
   "execution_count": 26,
   "metadata": {},
   "outputs": [
    {
     "name": "stdout",
     "output_type": "stream",
     "text": [
      "Middlesbrough \t 71\n",
      "Ipswich \t 67\n",
      "Man United \t 65\n",
      "Leicester \t 62\n",
      "Aston Villa \t 59\n",
      "Tottenham \t 56\n",
      "Arsenal \t 56\n",
      "Southampton \t 56\n",
      "Leeds \t\t 55\n",
      "Charlton \t 54\n",
      "Chelsea \t 52\n",
      "Sunderland \t 51\n",
      "Newcastle \t 51\n",
      "West Ham \t 50\n",
      "Derby \t\t 49\n",
      "Bradford \t 49\n",
      "Liverpool \t 46\n",
      "Everton \t 46\n",
      "Man City \t 45\n",
      "Coventry \t 36\n"
     ]
    }
   ],
   "source": [
    "randomtable = {}\n",
    "initialisetable(randomtable)\n",
    "randomseason(randomtable)\n",
    "printinorder(randomtable)"
   ]
  },
  {
   "cell_type": "code",
   "execution_count": null,
   "metadata": {},
   "outputs": [],
   "source": []
  }
 ],
 "metadata": {
  "kernelspec": {
   "display_name": "Python 3",
   "language": "python",
   "name": "python3"
  },
  "language_info": {
   "codemirror_mode": {
    "name": "ipython",
    "version": 3
   },
   "file_extension": ".py",
   "mimetype": "text/x-python",
   "name": "python",
   "nbconvert_exporter": "python",
   "pygments_lexer": "ipython3",
   "version": "3.7.3"
  }
 },
 "nbformat": 4,
 "nbformat_minor": 2
}
